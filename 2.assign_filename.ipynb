{
 "cells": [
  {
   "cell_type": "code",
   "execution_count": 48,
   "metadata": {},
   "outputs": [],
   "source": [
    "# 選擇 下載目錄的檔案 更名、移動目錄\n",
    "import os\n",
    "import time\n",
    "from datetime import date\n",
    "import datetime\n",
    "import pandas as pd\n",
    "import numpy as np\n",
    "import smtplib\n",
    "import shutil\n",
    "\n",
    "#---------------讀取資料檔---------------------\n",
    "today = date.today() \n",
    "files_list = os.listdir(r\"C:\\Users\\lanjy\\Downloads\")\n",
    "path = \"C:/Users/lanjy/Downloads\"\n",
    "fname=['form.xls','eNodebList_4G.xlsx','eNodebList_5G.xlsx']\n",
    "\n",
    "for i in fname:\n",
    "    if i in files_list: \n",
    "        if i=='form.xls':\n",
    "            new_file = i[0:i.index('.')]+'('+str(today)+')'+'.xls'\n",
    "            os.rename(os.path.join(path, i), os.path.join(path, new_file))\n",
    "            shutil.move(r'C:/Users/lanjy/Downloads/{}'.format(new_file),r'C:/Users/lanjy/exercise_1/data_property_form/{}'.format(new_file))\n",
    "            \n",
    "        else:\n",
    "            new_file = i[0:i.index('.')]+'('+str(today)+')'+'.xlsx'\n",
    "            os.rename(os.path.join(path, i), os.path.join(path, new_file))\n",
    "            shutil.move(r'C:/Users/lanjy/Downloads/{}'.format(new_file),r'C:/Users/lanjy/exercise_1/data_eNodebList/{}'.format(new_file))\n",
    "   \n",
    "\n",
    "   \n"
   ]
  },
  {
   "cell_type": "code",
   "execution_count": null,
   "metadata": {},
   "outputs": [],
   "source": []
  },
  {
   "cell_type": "code",
   "execution_count": null,
   "metadata": {},
   "outputs": [],
   "source": []
  }
 ],
 "metadata": {
  "kernelspec": {
   "display_name": "Python 3 (ipykernel)",
   "language": "python",
   "name": "python3"
  },
  "language_info": {
   "codemirror_mode": {
    "name": "ipython",
    "version": 3
   },
   "file_extension": ".py",
   "mimetype": "text/x-python",
   "name": "python",
   "nbconvert_exporter": "python",
   "pygments_lexer": "ipython3",
   "version": "3.8.8"
  }
 },
 "nbformat": 4,
 "nbformat_minor": 4
}
